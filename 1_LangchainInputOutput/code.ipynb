{
 "cells": [
  {
   "cell_type": "markdown",
   "id": "22f250f6",
   "metadata": {},
   "source": [
    "LLMs"
   ]
  },
  {
   "cell_type": "code",
   "execution_count": 5,
   "id": "15ce72d0",
   "metadata": {},
   "outputs": [
    {
     "data": {
      "text/plain": [
       "'\\n\\nWhy did the tomato turn red?\\n\\nBecause it saw the salad dressing!'"
      ]
     },
     "execution_count": 5,
     "metadata": {},
     "output_type": "execute_result"
    }
   ],
   "source": [
    "from langchain_openai import OpenAI\n",
    "\n",
    "llm = OpenAI()\n",
    "llm(\"Tell me the joke\")"
   ]
  },
  {
   "cell_type": "code",
   "execution_count": null,
   "id": "951503dc",
   "metadata": {},
   "outputs": [
    {
     "name": "stderr",
     "output_type": "stream",
     "text": [
      "C:\\Users\\AYESHA\\AppData\\Local\\Temp\\ipykernel_31040\\894913903.py:1: LangChainDeprecationWarning: The method `BaseLLM.predict` was deprecated in langchain-core 0.1.7 and will be removed in 1.0. Use :meth:`~invoke` instead.\n",
      "  result = llm.predict(text=\"Tell me why sun has yellow or orange color?\")\n"
     ]
    },
    {
     "data": {
      "text/plain": [
       "\"\\n\\nThe sun appears yellow or orange in color due to the way its light is scattered in Earth's atmosphere. As sunlight travels through Earth's atmosphere, it encounters particles and gases that cause the light to scatter. This scattering process affects different wavelengths of light differently, causing the blue and violet wavelengths to scatter more easily than the longer red, orange, and yellow wavelengths. This results in the shorter blue and violet wavelengths being scattered more widely, making the sky appear blue, while the longer red, orange, and yellow wavelengths continue on their path, giving the sun its characteristic yellow or orange color. \""
      ]
     },
     "execution_count": 6,
     "metadata": {},
     "output_type": "execute_result"
    }
   ],
   "source": [
    "# This method is deprecated\n",
    "# result = llm.predict(text=\"Tell me why sun has yellow or orange color?\")\n",
    "# result"
   ]
  },
  {
   "cell_type": "markdown",
   "id": "455b18b8",
   "metadata": {},
   "source": [
    "Batch processing - Make multiple requests at once"
   ]
  },
  {
   "cell_type": "code",
   "execution_count": 7,
   "id": "29f7df77",
   "metadata": {},
   "outputs": [
    {
     "data": {
      "text/plain": [
       "LLMResult(generations=[[Generation(text='\\n\\n1. Comfort: Slipper are designed to provide comfort and cushioning to the feet. They are usually made of soft and flexible materials that conform to the shape of the foot, making them more comfortable to wear than other types of footwear.\\n\\n2. Protection: Slipper provide a layer of protection for the feet against the cold, hard floors. They also protect the feet from sharp objects, rough surfaces, and hot or cold temperatures.\\n\\n3. Convenience: Slipper are easy to slip on and off, making them a convenient choice for indoor wear. They are perfect for quickly running errands, doing chores around the house, or just lounging at home.\\n\\n4. Hygiene: Wearing slipper indoors can help keep the floors clean and hygienic. They prevent dirt, bacteria, and other contaminants from being tracked inside the house from outdoor shoes.\\n\\n5. Relaxation: The soft and cozy feeling of wearing slipper can help promote relaxation and reduce stress. They are often associated with a sense of comfort and coziness, making them a popular choice for wearing at home.\\n\\n6. Style: Slipper are available in various styles, colors, and designs, making them a fashionable choice for indoor wear. They can add a touch of personal style and personality to a', generation_info={'finish_reason': 'length', 'logprobs': None})], [Generation(text='\\n\\nYes, there are several alternative fuels that can be used in cars instead of hydrogen fuel:\\n\\n1. Electric vehicles: These use electricity stored in batteries to power an electric motor and do not emit any pollutants.\\n\\n2. Biofuels: These are fuels made from organic matter, such as corn, sugarcane, or algae. They can be used in traditional combustion engines or converted into electricity for electric vehicles.\\n\\n3. Natural gas: Compressed natural gas (CNG) and liquefied natural gas (LNG) can be used in vehicles designed to run on these fuels.\\n\\n4. Propane: Also known as liquefied petroleum gas (LPG), propane can be used as a vehicle fuel in specially designed vehicles.\\n\\n5. Ethanol: This is a biofuel made from corn, sugarcane, or other plant materials and can be used in traditional combustion engines or mixed with gasoline to create a blend.\\n\\n6. Hydrogen fuel cells: While hydrogen fuel cells do use hydrogen, they are a different technology than traditional hydrogen fuel cars. Instead of burning hydrogen, they chemically react with oxygen to produce electricity to power an electric motor.\\n\\n7. Solar power: Solar panels can be used to generate electricity to power electric vehicles.\\n\\n8. Hybrid vehicles:', generation_info={'finish_reason': 'length', 'logprobs': None})]], llm_output={'token_usage': {'completion_tokens': 512, 'prompt_tokens': 20, 'total_tokens': 532}, 'model_name': 'gpt-3.5-turbo-instruct'}, run=[RunInfo(run_id=UUID('863be46b-ce4d-4fde-a484-63cb42d61976')), RunInfo(run_id=UUID('3f906769-cf8b-490b-a649-bcc94c333244'))], type='LLMResult')"
      ]
     },
     "execution_count": 7,
     "metadata": {},
     "output_type": "execute_result"
    }
   ],
   "source": [
    "result = llm.generate([\"Why humans wear slipper?\", \"Is there any other substitute we can use except hydrogen fuel for cars?\"])\n",
    "result"
   ]
  },
  {
   "cell_type": "code",
   "execution_count": 8,
   "id": "c284b7df",
   "metadata": {},
   "outputs": [
    {
     "data": {
      "text/plain": [
       "{'token_usage': {'completion_tokens': 512,\n",
       "  'prompt_tokens': 20,\n",
       "  'total_tokens': 532},\n",
       " 'model_name': 'gpt-3.5-turbo-instruct'}"
      ]
     },
     "execution_count": 8,
     "metadata": {},
     "output_type": "execute_result"
    }
   ],
   "source": [
    "result.llm_output"
   ]
  },
  {
   "cell_type": "markdown",
   "id": "5c4619b6",
   "metadata": {},
   "source": [
    "Creating a conversation with System, AI and Human Message."
   ]
  },
  {
   "cell_type": "code",
   "execution_count": 11,
   "id": "3c8bd25d",
   "metadata": {},
   "outputs": [],
   "source": [
    "from langchain.schema import SystemMessage, HumanMessage, AIMessage\n",
    "\n",
    "messages = [\n",
    "    SystemMessage(content=\"You are a helpful assistant specialized in providing information about BellaVista Italian Restaurant.\"),\n",
    "    HumanMessage(content=\"What's on the menu?\"),\n",
    "    AIMessage(content=\"BellaVista offers a variety of Italian dishes including pasta, pizza, and seafood.\"),\n",
    "    HumanMessage(content=\"Do you have vegan options?\")\n",
    "]"
   ]
  },
  {
   "cell_type": "code",
   "execution_count": 15,
   "id": "513022ad",
   "metadata": {},
   "outputs": [
    {
     "data": {
      "text/plain": [
       "'Yes, BellaVista Italian Restaurant offers vegan options such as vegan pasta dishes, salads, and vegetable-based pizzas. They also have vegan dessert options available.'"
      ]
     },
     "execution_count": 15,
     "metadata": {},
     "output_type": "execute_result"
    }
   ],
   "source": [
    "llm_result = llm(messages=messages)\n",
    "llm_result.content"
   ]
  },
  {
   "cell_type": "code",
   "execution_count": null,
   "id": "a27e147d",
   "metadata": {},
   "outputs": [],
   "source": []
  }
 ],
 "metadata": {
  "kernelspec": {
   "display_name": "myenv",
   "language": "python",
   "name": "python3"
  },
  "language_info": {
   "codemirror_mode": {
    "name": "ipython",
    "version": 3
   },
   "file_extension": ".py",
   "mimetype": "text/x-python",
   "name": "python",
   "nbconvert_exporter": "python",
   "pygments_lexer": "ipython3",
   "version": "3.13.6"
  }
 },
 "nbformat": 4,
 "nbformat_minor": 5
}
