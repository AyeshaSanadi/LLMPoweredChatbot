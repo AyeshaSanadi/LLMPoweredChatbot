{
 "cells": [
  {
   "cell_type": "code",
   "execution_count": 4,
   "id": "781b1d39",
   "metadata": {},
   "outputs": [
    {
     "data": {
      "text/plain": [
       "AIMessage(content='कुत्रा एकदा एका वाकड्यात गेला. त्याचं माझं वाकडा चालवून ते त्याच्या मागे चालायला सुरू केलं. त्याच्यावर एका लोकानेही त्याच्या मागे चालायला सुरू केलं. कुत्रा आणि माझं वाकडा एकत्र चालायला सुरू झालं. त्यांच्यामध्ये एक वाकडा प्रचंड पेटुन उडी मारत होता. त्याचं माझं वाकडा त्याच्या पेटावर उडलं आणि म्हणालं, \"आता कुत्रा पण उडणार!\"', additional_kwargs={}, response_metadata={'token_usage': {'completion_tokens': 320, 'prompt_tokens': 17, 'total_tokens': 337, 'completion_tokens_details': {'accepted_prediction_tokens': 0, 'audio_tokens': 0, 'reasoning_tokens': 0, 'rejected_prediction_tokens': 0}, 'prompt_tokens_details': {'audio_tokens': 0, 'cached_tokens': 0}}, 'model_name': 'gpt-3.5-turbo', 'system_fingerprint': None, 'finish_reason': 'stop', 'logprobs': None}, id='run--8549616e-5a90-4e84-bdad-ce030bd842f2-0')"
      ]
     },
     "execution_count": 4,
     "metadata": {},
     "output_type": "execute_result"
    }
   ],
   "source": [
    "from langchain.prompts import PromptTemplate\n",
    "from langchain.chat_models import ChatOpenAI\n",
    "\n",
    "llm = ChatOpenAI()\n",
    "\n",
    "prompt_template = PromptTemplate(input_variables=[\"input\", \"language\"], template=\"tell me a joke about {input} in {language}\")\n",
    "chain = prompt_template | llm\n",
    "chain.invoke({\"input\":\"a dog\", \"language\":\"marathi\"})"
   ]
  },
  {
   "cell_type": "code",
   "execution_count": 11,
   "id": "00e50405",
   "metadata": {},
   "outputs": [],
   "source": [
    "from langchain.chains import SequentialChain, LLMChain\n",
    "\n",
    "prompt_review = PromptTemplate.from_template(template=\"You ordered {dish_name} abd tour exeperience was {exp}. Write a review:\")\n",
    "chain_review = LLMChain(llm=llm, prompt=prompt_review, output_key = \"review\")\n",
    "\n",
    "promp_comment = PromptTemplate.from_template(template=\"Given a restaurant review: {review}, write a follow-up comment\")\n",
    "chain_comment = LLMChain(llm=llm, prompt=promp_comment, output_key=\"comment\")\n",
    "\n",
    "prompt_summary = PromptTemplate.from_template(template=\"Summarise the review in one short sentense \\n\\n {comment}\")\n",
    "chain_summary = LLMChain(llm=llm, prompt=prompt_summary, output_key=\"summary\")"
   ]
  },
  {
   "cell_type": "code",
   "execution_count": 12,
   "id": "5e79da54",
   "metadata": {},
   "outputs": [
    {
     "data": {
      "text/plain": [
       "{'dish_name': 'Pizza Salami',\n",
       " 'exp': 'It was awful!',\n",
       " 'review': 'I recently ordered the Pizza Salami from this restaurant and I have to say, it was absolutely terrible. The pizza was undercooked, the cheese was barely melted, and the salami was so greasy it was practically inedible. \\n\\nNot only was the pizza disappointing in terms of taste and quality, but the service was also subpar. The delivery took over an hour to arrive and when it did, the driver was rude and unapologetic for the delay.\\n\\nOverall, I would not recommend ordering the Pizza Salami from this restaurant. Save yourself the disappointment and find a better pizza place to satisfy your cravings.',\n",
       " 'comment': \"I completely agree with this review. I also ordered the Pizza Salami from this restaurant and had a similar experience. The pizza was definitely undercooked, the cheese was barely melted, and the salami was extremely greasy. \\n\\nOn top of that, the service was disappointing. The delivery took over an hour and the driver was not friendly or apologetic for the delay. \\n\\nI would highly recommend avoiding this restaurant if you're looking for a good pizza. There are plenty of other places that offer much better quality and service.\",\n",
       " 'summary': 'The reviewer had a similar experience with undercooked pizza, greasy salami, and poor service, and would recommend avoiding the restaurant.'}"
      ]
     },
     "execution_count": 12,
     "metadata": {},
     "output_type": "execute_result"
    }
   ],
   "source": [
    "overall_chain = SequentialChain(\n",
    "    chains=[chain_review, chain_comment, chain_summary],\n",
    "    input_variables=[\"dish_name\", \"exp\"],\n",
    "    output_variables=[\"review\", \"comment\", \"summary\"],\n",
    ")\n",
    "\n",
    "overall_chain.invoke({\"dish_name\": \"Pizza Salami\", \"exp\": \"It was awful!\"})"
   ]
  },
  {
   "cell_type": "code",
   "execution_count": null,
   "id": "62f570d0",
   "metadata": {},
   "outputs": [],
   "source": []
  }
 ],
 "metadata": {
  "kernelspec": {
   "display_name": "myenv",
   "language": "python",
   "name": "python3"
  },
  "language_info": {
   "codemirror_mode": {
    "name": "ipython",
    "version": 3
   },
   "file_extension": ".py",
   "mimetype": "text/x-python",
   "name": "python",
   "nbconvert_exporter": "python",
   "pygments_lexer": "ipython3",
   "version": "3.10.16"
  }
 },
 "nbformat": 4,
 "nbformat_minor": 5
}
