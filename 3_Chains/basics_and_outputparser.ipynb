{
 "cells": [
  {
   "cell_type": "code",
   "execution_count": 8,
   "id": "65a7fb53",
   "metadata": {},
   "outputs": [
    {
     "data": {
      "text/plain": [
       "True"
      ]
     },
     "execution_count": 8,
     "metadata": {},
     "output_type": "execute_result"
    }
   ],
   "source": [
    "from dotenv import load_dotenv\n",
    "\n",
    "load_dotenv()"
   ]
  },
  {
   "cell_type": "code",
   "execution_count": 12,
   "id": "56d7bce7",
   "metadata": {},
   "outputs": [],
   "source": [
    "TEMPLATE = \"\"\"\n",
    "Interprete the text and evaluate the text.\n",
    "sentiment: is the text in a positive, neutral or negative sentiment? Sentiment is required.\n",
    "subject: What subject is the text about? Use exactly one word. Use 'None' if no subject was provided.\n",
    "price: How much did the customer pay? Use 'None' if no price was provided.\n",
    "\n",
    "Format the output as JSON with the following keys:\n",
    "sentiment\n",
    "subject\n",
    "price\n",
    "\n",
    "text: {input}\n",
    "\"\"\""
   ]
  },
  {
   "cell_type": "code",
   "execution_count": 18,
   "id": "c0384ccc",
   "metadata": {},
   "outputs": [],
   "source": [
    "from langchain.prompts import ChatPromptTemplate\n",
    "from langchain.chat_models import ChatOpenAI"
   ]
  },
  {
   "cell_type": "code",
   "execution_count": null,
   "id": "7c588572",
   "metadata": {},
   "outputs": [],
   "source": [
    "llm = ChatOpenAI(model=\"gpt-4o-mini\")\n",
    "\n",
    "prompt_template = ChatPromptTemplate.from_template(template=TEMPLATE)\n",
    "chain = prompt_template | llm\n",
    "response = chain.invoke(input=\"I ordered pizza salami from the restaurant Bellavista. It was ok, but the dough could have been a bit more crisp.\")"
   ]
  },
  {
   "cell_type": "code",
   "execution_count": 17,
   "id": "d34043c6",
   "metadata": {},
   "outputs": [
    {
     "data": {
      "text/plain": [
       "'```json\\n{\\n  \"sentiment\": \"neutral\",\\n  \"subject\": \"pizza\",\\n  \"price\": \"None\"\\n}\\n```'"
      ]
     },
     "execution_count": 17,
     "metadata": {},
     "output_type": "execute_result"
    }
   ],
   "source": [
    "response.content"
   ]
  },
  {
   "cell_type": "markdown",
   "id": "39b1a07c",
   "metadata": {},
   "source": [
    "Response Schemas"
   ]
  },
  {
   "cell_type": "code",
   "execution_count": 20,
   "id": "b6181dd6",
   "metadata": {},
   "outputs": [
    {
     "name": "stdout",
     "output_type": "stream",
     "text": [
      "[ResponseSchema(name='sentiment', description='is the text in a positive, neutral or negative sentiment? Sentiment is required.', type='string'), ResponseSchema(name='subject', description=\"What subject is the text about? Use exactly one word. Use 'None' if no subject was provided.\", type='string'), ResponseSchema(name='price', description=\"How much did the customer pay? Use 'None' if no price was provided.\", type='float')]\n"
     ]
    }
   ],
   "source": [
    "from langchain.output_parsers import ResponseSchema, StructuredOutputParser\n",
    "\n",
    "response_schemas = [\n",
    "    ResponseSchema(name=\"sentiment\", description=\"is the text in a positive, neutral or negative sentiment? Sentiment is required.\"),\n",
    "    ResponseSchema(name=\"subject\", description=\"What subject is the text about? Use exactly one word. Use 'None' if no subject was provided.\"),\n",
    "    ResponseSchema(name=\"price\", description=\"How much did the customer pay? Use 'None' if no price was provided.\", type=\"float\")\n",
    "]\n",
    "print(response_schemas)"
   ]
  },
  {
   "cell_type": "code",
   "execution_count": 22,
   "id": "c61c729a",
   "metadata": {},
   "outputs": [
    {
     "name": "stdout",
     "output_type": "stream",
     "text": [
      "The output should be a markdown code snippet formatted in the following schema, including the leading and trailing \"```json\" and \"```\":\n",
      "\n",
      "```json\n",
      "{\n",
      "\t\"sentiment\": string  // is the text in a positive, neutral or negative sentiment? Sentiment is required.\n",
      "\t\"subject\": string  // What subject is the text about? Use exactly one word. Use 'None' if no subject was provided.\n",
      "\t\"price\": float  // How much did the customer pay? Use 'None' if no price was provided.\n",
      "}\n",
      "```\n"
     ]
    }
   ],
   "source": [
    "parser = StructuredOutputParser.from_response_schemas(response_schemas)\n",
    "format_instructions = parser.get_format_instructions()\n",
    "print(format_instructions)"
   ]
  },
  {
   "cell_type": "code",
   "execution_count": 23,
   "id": "8fe07c81",
   "metadata": {},
   "outputs": [],
   "source": [
    "# Create prompt template\n",
    "from langchain.prompts import ChatPromptTemplate, SystemMessagePromptTemplate\n",
    "\n",
    "prompt = ChatPromptTemplate(\n",
    "    messages=[\n",
    "        SystemMessagePromptTemplate.from_template(\n",
    "            \"Interprete the text and evaluate the text. \"\n",
    "            \"sentiment: is the text in a positive, neutral or negative sentiment? \"\n",
    "            \"subject: What subject is the text about? Use exactly one word. \"\n",
    "            \"Just return the JSON, do not add ANYTHING, NO INTERPRETATION! \"\n",
    "            \"text: {input}\\n\"\n",
    "            \"{format_instructions}\\n\"\n",
    "        )\n",
    "    ],\n",
    "    input_variables=[\"input\"],\n",
    "    partial_variables={\"format_instructions\": format_instructions}\n",
    ")"
   ]
  },
  {
   "cell_type": "code",
   "execution_count": 24,
   "id": "4334b774",
   "metadata": {},
   "outputs": [
    {
     "name": "stdout",
     "output_type": "stream",
     "text": [
      "```json\n",
      "{\n",
      "\t\"sentiment\": \"neutral\",\n",
      "\t\"subject\": \"pizza\",\n",
      "\t\"price\": \"None\"\n",
      "}\n",
      "```\n"
     ]
    }
   ],
   "source": [
    "_input = prompt.format_prompt(input=\"I ordered pizza salami from the restaurant Bellavista. It was ok, but the dough could have been a bit more crisp.\")\n",
    "output = llm.invoke(_input.to_messages())\n",
    "print(output.content)"
   ]
  },
  {
   "cell_type": "code",
   "execution_count": 25,
   "id": "026fa059",
   "metadata": {},
   "outputs": [
    {
     "name": "stdout",
     "output_type": "stream",
     "text": [
      "{'sentiment': 'neutral', 'subject': 'pizza', 'price': 'None'}\n"
     ]
    }
   ],
   "source": [
    "json_output = parser.parse(output.content)\n",
    "print(json_output)"
   ]
  },
  {
   "cell_type": "code",
   "execution_count": 26,
   "id": "59e54b25",
   "metadata": {},
   "outputs": [
    {
     "data": {
      "text/plain": [
       "'neutral'"
      ]
     },
     "execution_count": 26,
     "metadata": {},
     "output_type": "execute_result"
    }
   ],
   "source": [
    "json_output.get(\"sentiment\")"
   ]
  },
  {
   "cell_type": "code",
   "execution_count": null,
   "id": "40118c4d",
   "metadata": {},
   "outputs": [],
   "source": []
  }
 ],
 "metadata": {
  "kernelspec": {
   "display_name": "myenv",
   "language": "python",
   "name": "python3"
  },
  "language_info": {
   "codemirror_mode": {
    "name": "ipython",
    "version": 3
   },
   "file_extension": ".py",
   "mimetype": "text/x-python",
   "name": "python",
   "nbconvert_exporter": "python",
   "pygments_lexer": "ipython3",
   "version": "3.10.16"
  }
 },
 "nbformat": 4,
 "nbformat_minor": 5
}
