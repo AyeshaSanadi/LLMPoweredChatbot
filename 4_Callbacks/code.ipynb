{
 "cells": [
  {
   "cell_type": "code",
   "execution_count": null,
   "id": "4e6f1dd5",
   "metadata": {},
   "outputs": [],
   "source": [
    "from langchain.callbacks import StdOutCallbackHandler\n",
    "from langchain.chat_models import ChatOpenAI\n",
    "from langchain.prompts import PromptTemplate\n"
   ]
  },
  {
   "cell_type": "code",
   "execution_count": 11,
   "id": "938af88c",
   "metadata": {},
   "outputs": [
    {
     "name": "stdout",
     "output_type": "stream",
     "text": [
      "\n",
      "\n",
      "\u001b[1m> Entering new RunnableSequence chain...\u001b[0m\n",
      "\n",
      "\n",
      "\u001b[1m> Entering new PromptTemplate chain...\u001b[0m\n",
      "\n",
      "\u001b[1m> Finished chain.\u001b[0m\n"
     ]
    },
    {
     "name": "stdout",
     "output_type": "stream",
     "text": [
      "\n",
      "\u001b[1m> Finished chain.\u001b[0m\n"
     ]
    },
    {
     "data": {
      "text/plain": [
       "AIMessage(content='Dogs have a sense of smell that is up to 100,000 times more sensitive than humans, allowing them to detect certain diseases such as cancer and diabetes in humans just by smelling their breath or urine.', additional_kwargs={}, response_metadata={'token_usage': {'completion_tokens': 42, 'prompt_tokens': 18, 'total_tokens': 60, 'completion_tokens_details': {'accepted_prediction_tokens': 0, 'audio_tokens': 0, 'reasoning_tokens': 0, 'rejected_prediction_tokens': 0}, 'prompt_tokens_details': {'audio_tokens': 0, 'cached_tokens': 0}}, 'model_name': 'gpt-3.5-turbo', 'system_fingerprint': None, 'finish_reason': 'stop', 'logprobs': None}, id='run--ef120978-3fc0-496f-ade8-b648c28c4a96-0')"
      ]
     },
     "execution_count": 11,
     "metadata": {},
     "output_type": "execute_result"
    }
   ],
   "source": [
    "llm = ChatOpenAI()\n",
    "\n",
    "prompt_template = PromptTemplate(input_variables=[\"input\"], template=\"tell me a someting unqiue about {input}\")\n",
    "handler = StdOutCallbackHandler()\n",
    "chain = prompt_template | llm\n",
    "\n",
    "config = {\n",
    "    \"callbacks\": [handler]\n",
    "}\n",
    "\n",
    "chain.invoke(\"a dog\", config=config)"
   ]
  },
  {
   "cell_type": "code",
   "execution_count": 23,
   "id": "f9b81e74",
   "metadata": {},
   "outputs": [],
   "source": [
    "from langchain.callbacks.base import BaseCallbackHandler\n",
    "\n",
    "class MyCustomHandler(BaseCallbackHandler):\n",
    "    def on_llm_end(self, response, **kwargs) -> None:\n",
    "        print(f\"RESPONSE: \",response)\n",
    "\n",
    "handler = MyCustomHandler()\n",
    " \n",
    "config = {\"callbacks\":[handler]}"
   ]
  },
  {
   "cell_type": "code",
   "execution_count": 24,
   "id": "8a2c529e",
   "metadata": {},
   "outputs": [
    {
     "name": "stdout",
     "output_type": "stream",
     "text": [
      "RESPONSE:  generations=[[ChatGeneration(text='Rabbits have a unique form of communication called thumping. When rabbits feel threatened or sense danger, they will thump their hind legs on the ground to alert other rabbits in the area. This behavior can also be a way for rabbits to express discomfort or displeasure.', generation_info={'finish_reason': 'stop', 'logprobs': None}, message=AIMessage(content='Rabbits have a unique form of communication called thumping. When rabbits feel threatened or sense danger, they will thump their hind legs on the ground to alert other rabbits in the area. This behavior can also be a way for rabbits to express discomfort or displeasure.', additional_kwargs={}, response_metadata={'token_usage': {'completion_tokens': 55, 'prompt_tokens': 17, 'total_tokens': 72, 'completion_tokens_details': {'accepted_prediction_tokens': 0, 'audio_tokens': 0, 'reasoning_tokens': 0, 'rejected_prediction_tokens': 0}, 'prompt_tokens_details': {'audio_tokens': 0, 'cached_tokens': 0}}, 'model_name': 'gpt-3.5-turbo', 'system_fingerprint': None, 'finish_reason': 'stop', 'logprobs': None}, id='run--18634cc5-f748-426f-a2c4-71e5c3588094-0'))]] llm_output={'token_usage': {'completion_tokens': 55, 'prompt_tokens': 17, 'total_tokens': 72, 'completion_tokens_details': {'accepted_prediction_tokens': 0, 'audio_tokens': 0, 'reasoning_tokens': 0, 'rejected_prediction_tokens': 0}, 'prompt_tokens_details': {'audio_tokens': 0, 'cached_tokens': 0}}, 'model_name': 'gpt-3.5-turbo', 'system_fingerprint': None} run=None type='LLMResult'\n"
     ]
    },
    {
     "data": {
      "text/plain": [
       "AIMessage(content='Rabbits have a unique form of communication called thumping. When rabbits feel threatened or sense danger, they will thump their hind legs on the ground to alert other rabbits in the area. This behavior can also be a way for rabbits to express discomfort or displeasure.', additional_kwargs={}, response_metadata={'token_usage': {'completion_tokens': 55, 'prompt_tokens': 17, 'total_tokens': 72, 'completion_tokens_details': {'accepted_prediction_tokens': 0, 'audio_tokens': 0, 'reasoning_tokens': 0, 'rejected_prediction_tokens': 0}, 'prompt_tokens_details': {'audio_tokens': 0, 'cached_tokens': 0}}, 'model_name': 'gpt-3.5-turbo', 'system_fingerprint': None, 'finish_reason': 'stop', 'logprobs': None}, id='run--18634cc5-f748-426f-a2c4-71e5c3588094-0')"
      ]
     },
     "execution_count": 24,
     "metadata": {},
     "output_type": "execute_result"
    }
   ],
   "source": [
    "chain.invoke(input=\"rabbit\", config=config)"
   ]
  },
  {
   "cell_type": "code",
   "execution_count": 25,
   "id": "5b7edc30",
   "metadata": {},
   "outputs": [
    {
     "name": "stdout",
     "output_type": "stream",
     "text": [
      "Tokens Used: 80\n",
      "\tPrompt Tokens: 17\n",
      "\t\tPrompt Tokens Cached: 0\n",
      "\tCompletion Tokens: 63\n",
      "\t\tReasoning Tokens: 0\n",
      "Successful Requests: 1\n",
      "Total Cost (USD): $0.0001515\n"
     ]
    }
   ],
   "source": [
    "from langchain.callbacks import get_openai_callback\n",
    "\n",
    "with get_openai_callback() as cb:\n",
    "    chain.invoke(input=\"lion\")\n",
    "\n",
    "print(cb)"
   ]
  },
  {
   "cell_type": "code",
   "execution_count": null,
   "id": "6761f727",
   "metadata": {},
   "outputs": [],
   "source": []
  }
 ],
 "metadata": {
  "kernelspec": {
   "display_name": "myenv",
   "language": "python",
   "name": "python3"
  },
  "language_info": {
   "codemirror_mode": {
    "name": "ipython",
    "version": 3
   },
   "file_extension": ".py",
   "mimetype": "text/x-python",
   "name": "python",
   "nbconvert_exporter": "python",
   "pygments_lexer": "ipython3",
   "version": "3.10.16"
  }
 },
 "nbformat": 4,
 "nbformat_minor": 5
}
